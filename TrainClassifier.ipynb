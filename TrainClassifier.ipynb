{
  "cells": [
    {
      "cell_type": "code",
      "execution_count": null,
      "metadata": {
        "id": "-k1gDKvlasRz"
      },
      "outputs": [],
      "source": [
        "import sys\n",
        "import numpy as np\n",
        "import pickle\n",
        "import re\n",
        "from nltk.stem import SnowballStemmer\n",
        "from nltk.tokenize import RegexpTokenizer\n",
        "from sklearn.feature_extraction.text import TfidfVectorizer\n",
        "from sklearn.linear_model import SGDClassifier\n",
        "from sklearn.pipeline import Pipeline\n",
        "from sklearn.metrics import accuracy_score\n",
        "import torch\n",
        "import pandas as pd\n",
        "from sklearn.model_selection import train_test_split\n",
        "from tqdm import tqdm\n",
        "tqdm.pandas()"
      ]
    },
    {
      "cell_type": "code",
      "execution_count": null,
      "metadata": {
        "colab": {
          "base_uri": "https://localhost:8080/",
          "height": 929
        },
        "id": "6udIBJOGcJMB",
        "outputId": "bc034dc1-9239-4467-8bb9-710e4b2e6505"
      },
      "outputs": [
        {
          "data": {
            "application/vnd.google.colaboratory.intrinsic+json": {
              "type": "dataframe",
              "variable_name": "df"
            },
            "text/html": [
              "\n",
              "  <div id=\"df-66c8c118-27b3-44c2-9c00-65689227ee95\" class=\"colab-df-container\">\n",
              "    <div>\n",
              "<style scoped>\n",
              "    .dataframe tbody tr th:only-of-type {\n",
              "        vertical-align: middle;\n",
              "    }\n",
              "\n",
              "    .dataframe tbody tr th {\n",
              "        vertical-align: top;\n",
              "    }\n",
              "\n",
              "    .dataframe thead th {\n",
              "        text-align: right;\n",
              "    }\n",
              "</style>\n",
              "<table border=\"1\" class=\"dataframe\">\n",
              "  <thead>\n",
              "    <tr style=\"text-align: right;\">\n",
              "      <th></th>\n",
              "      <th>ID</th>\n",
              "      <th>Название СТЕ</th>\n",
              "      <th>Ссылка на изображение</th>\n",
              "      <th>ID конечной категории Портала</th>\n",
              "      <th>Наименование конечной категории Портала</th>\n",
              "      <th>Модель</th>\n",
              "      <th>Производитель</th>\n",
              "    </tr>\n",
              "  </thead>\n",
              "  <tbody>\n",
              "    <tr>\n",
              "      <th>0</th>\n",
              "      <td>37889788</td>\n",
              "      <td>Электроды-накладки Carto 3 Reference Patches, ...</td>\n",
              "      <td>https://zakupki.mos.ru/newapi/api/Core/Thumbna...</td>\n",
              "      <td>793382520</td>\n",
              "      <td>РАСХОДНЫЕ МАТЕРИАЛЫ ДЛЯ СИСТЕМЫ ТРЕХМЕРНОЙ НЕФ...</td>\n",
              "      <td>Webster</td>\n",
              "      <td>Biosense Webster, Inc.</td>\n",
              "    </tr>\n",
              "    <tr>\n",
              "      <th>1</th>\n",
              "      <td>37889786</td>\n",
              "      <td>Крем-мыло \"Mr. Чистоделоff\" \"Чайный лист\" с гл...</td>\n",
              "      <td>https://zakupki.mos.ru/newapi/api/Core/Thumbna...</td>\n",
              "      <td>793302204</td>\n",
              "      <td>Мыло туалетное жидкое</td>\n",
              "      <td>Крем-мыло \"Mr. Чистоделоff\" \"Чайный лист\" с гл...</td>\n",
              "      <td>ООО \"СВЗХ\"</td>\n",
              "    </tr>\n",
              "    <tr>\n",
              "      <th>2</th>\n",
              "      <td>37889778</td>\n",
              "      <td>Проводник Hi-Torque Эбботт Васкуляр 1005357H, ...</td>\n",
              "      <td>https://zakupki.mos.ru/newapi/api/Core/Thumbna...</td>\n",
              "      <td>793403090</td>\n",
              "      <td>ПРОВОДНИК ДЛЯ ДОСТУПА К ПЕРИФЕРИЧЕСКИМ СОСУДАМ...</td>\n",
              "      <td>Hi-Torque</td>\n",
              "      <td>Эбботт Васкуляр</td>\n",
              "    </tr>\n",
              "    <tr>\n",
              "      <th>3</th>\n",
              "      <td>37889777</td>\n",
              "      <td>Валик малярный Микрофибра 200мм с рукояткой</td>\n",
              "      <td>https://zakupki.mos.ru/newapi/api/Core/Thumbna...</td>\n",
              "      <td>793372302</td>\n",
              "      <td>Инструмент ручной прочий</td>\n",
              "      <td>Микрофибра</td>\n",
              "      <td>STAYER</td>\n",
              "    </tr>\n",
              "    <tr>\n",
              "      <th>4</th>\n",
              "      <td>37889772</td>\n",
              "      <td>Кисть малярная 100 мм HEADMAN</td>\n",
              "      <td>https://zakupki.mos.ru/newapi/api/Core/Thumbna...</td>\n",
              "      <td>793372566</td>\n",
              "      <td>Кисти и щетки малярные</td>\n",
              "      <td>Бейсик</td>\n",
              "      <td>HEADMAN</td>\n",
              "    </tr>\n",
              "    <tr>\n",
              "      <th>...</th>\n",
              "      <td>...</td>\n",
              "      <td>...</td>\n",
              "      <td>...</td>\n",
              "      <td>...</td>\n",
              "      <td>...</td>\n",
              "      <td>...</td>\n",
              "      <td>...</td>\n",
              "    </tr>\n",
              "    <tr>\n",
              "      <th>899995</th>\n",
              "      <td>36008423</td>\n",
              "      <td>Стул \"КОЖПРОММЕБЕЛЬ\" экокожа 495х790мм черный</td>\n",
              "      <td>https://zakupki.mos.ru/newapi/api/Core/Thumbna...</td>\n",
              "      <td>793334102</td>\n",
              "      <td>Стулья на металлическом каркасе</td>\n",
              "      <td>СП</td>\n",
              "      <td>ОБЩЕСТВО С ОГРАНИЧЕННОЙ ОТВЕТСТВЕННОСТЬЮ \"КОЖП...</td>\n",
              "    </tr>\n",
              "    <tr>\n",
              "      <th>899996</th>\n",
              "      <td>36008422</td>\n",
              "      <td>Винт с полукруглой головкой М5х50</td>\n",
              "      <td>https://zakupki.mos.ru/newapi/api/Core/Thumbna...</td>\n",
              "      <td>793371158</td>\n",
              "      <td>Метизы, крепежные изделия прочие</td>\n",
              "      <td>М5</td>\n",
              "      <td>ООО «Столичный крепеж»</td>\n",
              "    </tr>\n",
              "    <tr>\n",
              "      <th>899997</th>\n",
              "      <td>36008421</td>\n",
              "      <td>Кресло для посетителя ШхГхВ: 600х450х930 мм, ч...</td>\n",
              "      <td>https://zakupki.mos.ru/newapi/api/Core/Thumbna...</td>\n",
              "      <td>793358431</td>\n",
              "      <td>Кресла для зрительных залов</td>\n",
              "      <td>самба</td>\n",
              "      <td>ОБЩЕСТВО С ОГРАНИЧЕННОЙ ОТВЕТСТВЕННОСТЬЮ \"КОЖП...</td>\n",
              "    </tr>\n",
              "    <tr>\n",
              "      <th>899998</th>\n",
              "      <td>36008420</td>\n",
              "      <td>Кроссовки женские NB, черные, размер 10</td>\n",
              "      <td>https://zakupki.mos.ru/newapi/api/Core/Thumbna...</td>\n",
              "      <td>793370606</td>\n",
              "      <td>Кроссовки</td>\n",
              "      <td>Fresh Foam</td>\n",
              "      <td>New Balance</td>\n",
              "    </tr>\n",
              "    <tr>\n",
              "      <th>899999</th>\n",
              "      <td>36008419</td>\n",
              "      <td>Кроссовки женские NB, черные, размер 9.5</td>\n",
              "      <td>https://zakupki.mos.ru/newapi/api/Core/Thumbna...</td>\n",
              "      <td>793370606</td>\n",
              "      <td>Кроссовки</td>\n",
              "      <td>Fresh Foam</td>\n",
              "      <td>New Balance</td>\n",
              "    </tr>\n",
              "  </tbody>\n",
              "</table>\n",
              "<p>900000 rows × 7 columns</p>\n",
              "</div>\n",
              "    <div class=\"colab-df-buttons\">\n",
              "\n",
              "  <div class=\"colab-df-container\">\n",
              "    <button class=\"colab-df-convert\" onclick=\"convertToInteractive('df-66c8c118-27b3-44c2-9c00-65689227ee95')\"\n",
              "            title=\"Convert this dataframe to an interactive table.\"\n",
              "            style=\"display:none;\">\n",
              "\n",
              "  <svg xmlns=\"http://www.w3.org/2000/svg\" height=\"24px\" viewBox=\"0 -960 960 960\">\n",
              "    <path d=\"M120-120v-720h720v720H120Zm60-500h600v-160H180v160Zm220 220h160v-160H400v160Zm0 220h160v-160H400v160ZM180-400h160v-160H180v160Zm440 0h160v-160H620v160ZM180-180h160v-160H180v160Zm440 0h160v-160H620v160Z\"/>\n",
              "  </svg>\n",
              "    </button>\n",
              "\n",
              "  <style>\n",
              "    .colab-df-container {\n",
              "      display:flex;\n",
              "      gap: 12px;\n",
              "    }\n",
              "\n",
              "    .colab-df-convert {\n",
              "      background-color: #E8F0FE;\n",
              "      border: none;\n",
              "      border-radius: 50%;\n",
              "      cursor: pointer;\n",
              "      display: none;\n",
              "      fill: #1967D2;\n",
              "      height: 32px;\n",
              "      padding: 0 0 0 0;\n",
              "      width: 32px;\n",
              "    }\n",
              "\n",
              "    .colab-df-convert:hover {\n",
              "      background-color: #E2EBFA;\n",
              "      box-shadow: 0px 1px 2px rgba(60, 64, 67, 0.3), 0px 1px 3px 1px rgba(60, 64, 67, 0.15);\n",
              "      fill: #174EA6;\n",
              "    }\n",
              "\n",
              "    .colab-df-buttons div {\n",
              "      margin-bottom: 4px;\n",
              "    }\n",
              "\n",
              "    [theme=dark] .colab-df-convert {\n",
              "      background-color: #3B4455;\n",
              "      fill: #D2E3FC;\n",
              "    }\n",
              "\n",
              "    [theme=dark] .colab-df-convert:hover {\n",
              "      background-color: #434B5C;\n",
              "      box-shadow: 0px 1px 3px 1px rgba(0, 0, 0, 0.15);\n",
              "      filter: drop-shadow(0px 1px 2px rgba(0, 0, 0, 0.3));\n",
              "      fill: #FFFFFF;\n",
              "    }\n",
              "  </style>\n",
              "\n",
              "    <script>\n",
              "      const buttonEl =\n",
              "        document.querySelector('#df-66c8c118-27b3-44c2-9c00-65689227ee95 button.colab-df-convert');\n",
              "      buttonEl.style.display =\n",
              "        google.colab.kernel.accessAllowed ? 'block' : 'none';\n",
              "\n",
              "      async function convertToInteractive(key) {\n",
              "        const element = document.querySelector('#df-66c8c118-27b3-44c2-9c00-65689227ee95');\n",
              "        const dataTable =\n",
              "          await google.colab.kernel.invokeFunction('convertToInteractive',\n",
              "                                                    [key], {});\n",
              "        if (!dataTable) return;\n",
              "\n",
              "        const docLinkHtml = 'Like what you see? Visit the ' +\n",
              "          '<a target=\"_blank\" href=https://colab.research.google.com/notebooks/data_table.ipynb>data table notebook</a>'\n",
              "          + ' to learn more about interactive tables.';\n",
              "        element.innerHTML = '';\n",
              "        dataTable['output_type'] = 'display_data';\n",
              "        await google.colab.output.renderOutput(dataTable, element);\n",
              "        const docLink = document.createElement('div');\n",
              "        docLink.innerHTML = docLinkHtml;\n",
              "        element.appendChild(docLink);\n",
              "      }\n",
              "    </script>\n",
              "  </div>\n",
              "\n",
              "\n",
              "<div id=\"df-1dfef135-1451-4eaa-a4ce-6924dc3fa32e\">\n",
              "  <button class=\"colab-df-quickchart\" onclick=\"quickchart('df-1dfef135-1451-4eaa-a4ce-6924dc3fa32e')\"\n",
              "            title=\"Suggest charts\"\n",
              "            style=\"display:none;\">\n",
              "\n",
              "<svg xmlns=\"http://www.w3.org/2000/svg\" height=\"24px\"viewBox=\"0 0 24 24\"\n",
              "     width=\"24px\">\n",
              "    <g>\n",
              "        <path d=\"M19 3H5c-1.1 0-2 .9-2 2v14c0 1.1.9 2 2 2h14c1.1 0 2-.9 2-2V5c0-1.1-.9-2-2-2zM9 17H7v-7h2v7zm4 0h-2V7h2v10zm4 0h-2v-4h2v4z\"/>\n",
              "    </g>\n",
              "</svg>\n",
              "  </button>\n",
              "\n",
              "<style>\n",
              "  .colab-df-quickchart {\n",
              "      --bg-color: #E8F0FE;\n",
              "      --fill-color: #1967D2;\n",
              "      --hover-bg-color: #E2EBFA;\n",
              "      --hover-fill-color: #174EA6;\n",
              "      --disabled-fill-color: #AAA;\n",
              "      --disabled-bg-color: #DDD;\n",
              "  }\n",
              "\n",
              "  [theme=dark] .colab-df-quickchart {\n",
              "      --bg-color: #3B4455;\n",
              "      --fill-color: #D2E3FC;\n",
              "      --hover-bg-color: #434B5C;\n",
              "      --hover-fill-color: #FFFFFF;\n",
              "      --disabled-bg-color: #3B4455;\n",
              "      --disabled-fill-color: #666;\n",
              "  }\n",
              "\n",
              "  .colab-df-quickchart {\n",
              "    background-color: var(--bg-color);\n",
              "    border: none;\n",
              "    border-radius: 50%;\n",
              "    cursor: pointer;\n",
              "    display: none;\n",
              "    fill: var(--fill-color);\n",
              "    height: 32px;\n",
              "    padding: 0;\n",
              "    width: 32px;\n",
              "  }\n",
              "\n",
              "  .colab-df-quickchart:hover {\n",
              "    background-color: var(--hover-bg-color);\n",
              "    box-shadow: 0 1px 2px rgba(60, 64, 67, 0.3), 0 1px 3px 1px rgba(60, 64, 67, 0.15);\n",
              "    fill: var(--button-hover-fill-color);\n",
              "  }\n",
              "\n",
              "  .colab-df-quickchart-complete:disabled,\n",
              "  .colab-df-quickchart-complete:disabled:hover {\n",
              "    background-color: var(--disabled-bg-color);\n",
              "    fill: var(--disabled-fill-color);\n",
              "    box-shadow: none;\n",
              "  }\n",
              "\n",
              "  .colab-df-spinner {\n",
              "    border: 2px solid var(--fill-color);\n",
              "    border-color: transparent;\n",
              "    border-bottom-color: var(--fill-color);\n",
              "    animation:\n",
              "      spin 1s steps(1) infinite;\n",
              "  }\n",
              "\n",
              "  @keyframes spin {\n",
              "    0% {\n",
              "      border-color: transparent;\n",
              "      border-bottom-color: var(--fill-color);\n",
              "      border-left-color: var(--fill-color);\n",
              "    }\n",
              "    20% {\n",
              "      border-color: transparent;\n",
              "      border-left-color: var(--fill-color);\n",
              "      border-top-color: var(--fill-color);\n",
              "    }\n",
              "    30% {\n",
              "      border-color: transparent;\n",
              "      border-left-color: var(--fill-color);\n",
              "      border-top-color: var(--fill-color);\n",
              "      border-right-color: var(--fill-color);\n",
              "    }\n",
              "    40% {\n",
              "      border-color: transparent;\n",
              "      border-right-color: var(--fill-color);\n",
              "      border-top-color: var(--fill-color);\n",
              "    }\n",
              "    60% {\n",
              "      border-color: transparent;\n",
              "      border-right-color: var(--fill-color);\n",
              "    }\n",
              "    80% {\n",
              "      border-color: transparent;\n",
              "      border-right-color: var(--fill-color);\n",
              "      border-bottom-color: var(--fill-color);\n",
              "    }\n",
              "    90% {\n",
              "      border-color: transparent;\n",
              "      border-bottom-color: var(--fill-color);\n",
              "    }\n",
              "  }\n",
              "</style>\n",
              "\n",
              "  <script>\n",
              "    async function quickchart(key) {\n",
              "      const quickchartButtonEl =\n",
              "        document.querySelector('#' + key + ' button');\n",
              "      quickchartButtonEl.disabled = true;  // To prevent multiple clicks.\n",
              "      quickchartButtonEl.classList.add('colab-df-spinner');\n",
              "      try {\n",
              "        const charts = await google.colab.kernel.invokeFunction(\n",
              "            'suggestCharts', [key], {});\n",
              "      } catch (error) {\n",
              "        console.error('Error during call to suggestCharts:', error);\n",
              "      }\n",
              "      quickchartButtonEl.classList.remove('colab-df-spinner');\n",
              "      quickchartButtonEl.classList.add('colab-df-quickchart-complete');\n",
              "    }\n",
              "    (() => {\n",
              "      let quickchartButtonEl =\n",
              "        document.querySelector('#df-1dfef135-1451-4eaa-a4ce-6924dc3fa32e button');\n",
              "      quickchartButtonEl.style.display =\n",
              "        google.colab.kernel.accessAllowed ? 'block' : 'none';\n",
              "    })();\n",
              "  </script>\n",
              "</div>\n",
              "    </div>\n",
              "  </div>\n"
            ],
            "text/plain": [
              "              ID                                       Название СТЕ  \\\n",
              "0       37889788  Электроды-накладки Carto 3 Reference Patches, ...   \n",
              "1       37889786  Крем-мыло \"Mr. Чистоделоff\" \"Чайный лист\" с гл...   \n",
              "2       37889778  Проводник Hi-Torque Эбботт Васкуляр 1005357H, ...   \n",
              "3       37889777        Валик малярный Микрофибра 200мм с рукояткой   \n",
              "4       37889772                      Кисть малярная 100 мм HEADMAN   \n",
              "...          ...                                                ...   \n",
              "899995  36008423      Стул \"КОЖПРОММЕБЕЛЬ\" экокожа 495х790мм черный   \n",
              "899996  36008422                  Винт с полукруглой головкой М5х50   \n",
              "899997  36008421  Кресло для посетителя ШхГхВ: 600х450х930 мм, ч...   \n",
              "899998  36008420            Кроссовки женские NB, черные, размер 10   \n",
              "899999  36008419           Кроссовки женские NB, черные, размер 9.5   \n",
              "\n",
              "                                    Ссылка на изображение  \\\n",
              "0       https://zakupki.mos.ru/newapi/api/Core/Thumbna...   \n",
              "1       https://zakupki.mos.ru/newapi/api/Core/Thumbna...   \n",
              "2       https://zakupki.mos.ru/newapi/api/Core/Thumbna...   \n",
              "3       https://zakupki.mos.ru/newapi/api/Core/Thumbna...   \n",
              "4       https://zakupki.mos.ru/newapi/api/Core/Thumbna...   \n",
              "...                                                   ...   \n",
              "899995  https://zakupki.mos.ru/newapi/api/Core/Thumbna...   \n",
              "899996  https://zakupki.mos.ru/newapi/api/Core/Thumbna...   \n",
              "899997  https://zakupki.mos.ru/newapi/api/Core/Thumbna...   \n",
              "899998  https://zakupki.mos.ru/newapi/api/Core/Thumbna...   \n",
              "899999  https://zakupki.mos.ru/newapi/api/Core/Thumbna...   \n",
              "\n",
              "        ID конечной категории Портала  \\\n",
              "0                           793382520   \n",
              "1                           793302204   \n",
              "2                           793403090   \n",
              "3                           793372302   \n",
              "4                           793372566   \n",
              "...                               ...   \n",
              "899995                      793334102   \n",
              "899996                      793371158   \n",
              "899997                      793358431   \n",
              "899998                      793370606   \n",
              "899999                      793370606   \n",
              "\n",
              "                  Наименование конечной категории Портала  \\\n",
              "0       РАСХОДНЫЕ МАТЕРИАЛЫ ДЛЯ СИСТЕМЫ ТРЕХМЕРНОЙ НЕФ...   \n",
              "1                                   Мыло туалетное жидкое   \n",
              "2       ПРОВОДНИК ДЛЯ ДОСТУПА К ПЕРИФЕРИЧЕСКИМ СОСУДАМ...   \n",
              "3                                Инструмент ручной прочий   \n",
              "4                                  Кисти и щетки малярные   \n",
              "...                                                   ...   \n",
              "899995                    Стулья на металлическом каркасе   \n",
              "899996                   Метизы, крепежные изделия прочие   \n",
              "899997                        Кресла для зрительных залов   \n",
              "899998                                          Кроссовки   \n",
              "899999                                          Кроссовки   \n",
              "\n",
              "                                                   Модель  \\\n",
              "0                                                 Webster   \n",
              "1       Крем-мыло \"Mr. Чистоделоff\" \"Чайный лист\" с гл...   \n",
              "2                                               Hi-Torque   \n",
              "3                                              Микрофибра   \n",
              "4                                                  Бейсик   \n",
              "...                                                   ...   \n",
              "899995                                                 СП   \n",
              "899996                                                 М5   \n",
              "899997                                              самба   \n",
              "899998                                         Fresh Foam   \n",
              "899999                                         Fresh Foam   \n",
              "\n",
              "                                            Производитель  \n",
              "0                                  Biosense Webster, Inc.  \n",
              "1                                              ООО \"СВЗХ\"  \n",
              "2                                         Эбботт Васкуляр  \n",
              "3                                                  STAYER  \n",
              "4                                                 HEADMAN  \n",
              "...                                                   ...  \n",
              "899995  ОБЩЕСТВО С ОГРАНИЧЕННОЙ ОТВЕТСТВЕННОСТЬЮ \"КОЖП...  \n",
              "899996                             ООО «Столичный крепеж»  \n",
              "899997  ОБЩЕСТВО С ОГРАНИЧЕННОЙ ОТВЕТСТВЕННОСТЬЮ \"КОЖП...  \n",
              "899998                                        New Balance  \n",
              "899999                                        New Balance  \n",
              "\n",
              "[900000 rows x 7 columns]"
            ]
          },
          "execution_count": 2,
          "metadata": {},
          "output_type": "execute_result"
        }
      ],
      "source": [
        "df = pd.read_csv(\"stuExampleList.csv\", sep=\";\")\n",
        "df"
      ]
    },
    {
      "cell_type": "code",
      "execution_count": null,
      "metadata": {
        "colab": {
          "base_uri": "https://localhost:8080/"
        },
        "id": "U0_g6oJbcqIR",
        "outputId": "c981910e-1025-45fe-ec79-37d3deb4b117"
      },
      "outputs": [
        {
          "name": "stderr",
          "output_type": "stream",
          "text": [
            "100%|██████████| 900000/900000 [00:05<00:00, 170504.01it/s]\n"
          ]
        }
      ],
      "source": [
        "counter = df['ID конечной категории Портала'].value_counts()\n",
        "df[\"ctg_cnt\"] = df['ID конечной категории Портала'].progress_apply(lambda x: counter[x])"
      ]
    },
    {
      "cell_type": "code",
      "execution_count": null,
      "metadata": {
        "id": "hrzBdTtndHF6"
      },
      "outputs": [],
      "source": [
        "df = df[df.ctg_cnt > 122]"
      ]
    },
    {
      "cell_type": "code",
      "execution_count": null,
      "metadata": {
        "colab": {
          "base_uri": "https://localhost:8080/"
        },
        "id": "4yPmm1DYdT2t",
        "outputId": "40338bb9-5dae-4514-8060-243c3092a5a0"
      },
      "outputs": [
        {
          "data": {
            "text/plain": [
              "ID конечной категории Портала\n",
              "793369656    64019\n",
              "793374776    57712\n",
              "793362679    38471\n",
              "793369662    32891\n",
              "793373176    32413\n",
              "             ...  \n",
              "793374390      124\n",
              "793358157      124\n",
              "793364206      123\n",
              "793374400      123\n",
              "793373518      123\n",
              "Name: count, Length: 830, dtype: int64"
            ]
          },
          "execution_count": 5,
          "metadata": {},
          "output_type": "execute_result"
        }
      ],
      "source": [
        "df['ID конечной категории Портала'].value_counts()"
      ]
    },
    {
      "cell_type": "code",
      "execution_count": null,
      "metadata": {
        "colab": {
          "base_uri": "https://localhost:8080/"
        },
        "id": "UKmcsR0wdem_",
        "outputId": "aa66e608-68c3-4123-b14b-9fc037adf3d9"
      },
      "outputs": [
        {
          "name": "stderr",
          "output_type": "stream",
          "text": [
            "100%|██████████| 830/830 [00:01<00:00, 705.75it/s] \n"
          ]
        }
      ],
      "source": [
        "stats = df.groupby('ID конечной категории Портала').progress_apply(lambda x: x.sample(min(len(x), 2000)))"
      ]
    },
    {
      "cell_type": "code",
      "execution_count": null,
      "metadata": {
        "id": "hYc3uIOmeUQx"
      },
      "outputs": [],
      "source": [
        "new_df = stats.rename(columns={'ID конечной категории Портала': \"reset\"}).reset_index()"
      ]
    },
    {
      "cell_type": "code",
      "execution_count": null,
      "metadata": {
        "colab": {
          "base_uri": "https://localhost:8080/"
        },
        "id": "qiw29BObfCpb",
        "outputId": "a7fa23ee-81cb-4a30-bdd8-aaf4d0878036"
      },
      "outputs": [
        {
          "data": {
            "text/plain": [
              "count     830.000000\n",
              "mean      454.281928\n",
              "std       483.213305\n",
              "min       123.000000\n",
              "25%       168.250000\n",
              "50%       258.000000\n",
              "75%       483.000000\n",
              "max      2000.000000\n",
              "Name: count, dtype: float64"
            ]
          },
          "execution_count": 8,
          "metadata": {},
          "output_type": "execute_result"
        }
      ],
      "source": [
        "new_df['ID конечной категории Портала'].value_counts().describe()"
      ]
    },
    {
      "cell_type": "code",
      "execution_count": null,
      "metadata": {
        "colab": {
          "base_uri": "https://localhost:8080/"
        },
        "id": "KL9yvsMXgBMC",
        "outputId": "400d3946-fc35-4ca5-9295-4991a5546b68"
      },
      "outputs": [
        {
          "data": {
            "text/plain": [
              "array(['Конверты почтовые', 'Конверты почтовые', 'Конверты почтовые', ...,\n",
              "       'КАТЕТЕРЫ ДЛЯ ГЕМОДИАЛИЗА', 'КАТЕТЕРЫ ДЛЯ ГЕМОДИАЛИЗА',\n",
              "       'КАТЕТЕРЫ ДЛЯ ГЕМОДИАЛИЗА'], dtype=object)"
            ]
          },
          "execution_count": 9,
          "metadata": {},
          "output_type": "execute_result"
        }
      ],
      "source": [
        "new_df['Наименование конечной категории Портала'].values"
      ]
    },
    {
      "cell_type": "code",
      "execution_count": null,
      "metadata": {
        "id": "DLbPXv1DfviU"
      },
      "outputs": [],
      "source": [
        "label, index = pd.factorize(new_df['Наименование конечной категории Портала'])\n",
        "new_df[\"label\"] = label"
      ]
    },
    {
      "cell_type": "code",
      "execution_count": null,
      "metadata": {
        "id": "VfGyWbee1yJu"
      },
      "outputs": [],
      "source": [
        "stemmer = SnowballStemmer(\"russian\")\n",
        "tokenizer = RegexpTokenizer(r'\\w+')\n",
        "\n",
        "def clear_text(text):\n",
        "    return ' '.join(stemmer.stem(x) for x in tokenizer.tokenize(text.lower()))"
      ]
    },
    {
      "cell_type": "code",
      "execution_count": null,
      "metadata": {
        "id": "GvmgiOvF2mJG"
      },
      "outputs": [],
      "source": []
    },
    {
      "cell_type": "code",
      "execution_count": null,
      "metadata": {
        "colab": {
          "base_uri": "https://localhost:8080/"
        },
        "id": "zYfns5u_2CI5",
        "outputId": "bff12600-6664-4731-ebf3-7355abe2dbd1"
      },
      "outputs": [
        {
          "name": "stderr",
          "output_type": "stream",
          "text": [
            "100%|██████████| 377054/377054 [02:44<00:00, 2291.13it/s]\n"
          ]
        }
      ],
      "source": [
        "new_df[\"feature\"] = new_df[\"Название СТЕ\"].progress_apply(clear_text)"
      ]
    },
    {
      "cell_type": "code",
      "execution_count": null,
      "metadata": {
        "id": "RfVGwO4D1UFR"
      },
      "outputs": [],
      "source": [
        "text_clf = Pipeline([\n",
        "    ('tfidf', TfidfVectorizer()),\n",
        "    ('clf', SGDClassifier(loss='hinge')),\n",
        "])"
      ]
    },
    {
      "cell_type": "code",
      "execution_count": null,
      "metadata": {
        "colab": {
          "base_uri": "https://localhost:8080/",
          "height": 125
        },
        "id": "xI0RTTlC4EhO",
        "outputId": "3fb816b7-f8fc-4b70-b60e-d5ba19e6da5e"
      },
      "outputs": [
        {
          "data": {
            "text/html": [
              "<style>#sk-container-id-1 {color: black;background-color: white;}#sk-container-id-1 pre{padding: 0;}#sk-container-id-1 div.sk-toggleable {background-color: white;}#sk-container-id-1 label.sk-toggleable__label {cursor: pointer;display: block;width: 100%;margin-bottom: 0;padding: 0.3em;box-sizing: border-box;text-align: center;}#sk-container-id-1 label.sk-toggleable__label-arrow:before {content: \"▸\";float: left;margin-right: 0.25em;color: #696969;}#sk-container-id-1 label.sk-toggleable__label-arrow:hover:before {color: black;}#sk-container-id-1 div.sk-estimator:hover label.sk-toggleable__label-arrow:before {color: black;}#sk-container-id-1 div.sk-toggleable__content {max-height: 0;max-width: 0;overflow: hidden;text-align: left;background-color: #f0f8ff;}#sk-container-id-1 div.sk-toggleable__content pre {margin: 0.2em;color: black;border-radius: 0.25em;background-color: #f0f8ff;}#sk-container-id-1 input.sk-toggleable__control:checked~div.sk-toggleable__content {max-height: 200px;max-width: 100%;overflow: auto;}#sk-container-id-1 input.sk-toggleable__control:checked~label.sk-toggleable__label-arrow:before {content: \"▾\";}#sk-container-id-1 div.sk-estimator input.sk-toggleable__control:checked~label.sk-toggleable__label {background-color: #d4ebff;}#sk-container-id-1 div.sk-label input.sk-toggleable__control:checked~label.sk-toggleable__label {background-color: #d4ebff;}#sk-container-id-1 input.sk-hidden--visually {border: 0;clip: rect(1px 1px 1px 1px);clip: rect(1px, 1px, 1px, 1px);height: 1px;margin: -1px;overflow: hidden;padding: 0;position: absolute;width: 1px;}#sk-container-id-1 div.sk-estimator {font-family: monospace;background-color: #f0f8ff;border: 1px dotted black;border-radius: 0.25em;box-sizing: border-box;margin-bottom: 0.5em;}#sk-container-id-1 div.sk-estimator:hover {background-color: #d4ebff;}#sk-container-id-1 div.sk-parallel-item::after {content: \"\";width: 100%;border-bottom: 1px solid gray;flex-grow: 1;}#sk-container-id-1 div.sk-label:hover label.sk-toggleable__label {background-color: #d4ebff;}#sk-container-id-1 div.sk-serial::before {content: \"\";position: absolute;border-left: 1px solid gray;box-sizing: border-box;top: 0;bottom: 0;left: 50%;z-index: 0;}#sk-container-id-1 div.sk-serial {display: flex;flex-direction: column;align-items: center;background-color: white;padding-right: 0.2em;padding-left: 0.2em;position: relative;}#sk-container-id-1 div.sk-item {position: relative;z-index: 1;}#sk-container-id-1 div.sk-parallel {display: flex;align-items: stretch;justify-content: center;background-color: white;position: relative;}#sk-container-id-1 div.sk-item::before, #sk-container-id-1 div.sk-parallel-item::before {content: \"\";position: absolute;border-left: 1px solid gray;box-sizing: border-box;top: 0;bottom: 0;left: 50%;z-index: -1;}#sk-container-id-1 div.sk-parallel-item {display: flex;flex-direction: column;z-index: 1;position: relative;background-color: white;}#sk-container-id-1 div.sk-parallel-item:first-child::after {align-self: flex-end;width: 50%;}#sk-container-id-1 div.sk-parallel-item:last-child::after {align-self: flex-start;width: 50%;}#sk-container-id-1 div.sk-parallel-item:only-child::after {width: 0;}#sk-container-id-1 div.sk-dashed-wrapped {border: 1px dashed gray;margin: 0 0.4em 0.5em 0.4em;box-sizing: border-box;padding-bottom: 0.4em;background-color: white;}#sk-container-id-1 div.sk-label label {font-family: monospace;font-weight: bold;display: inline-block;line-height: 1.2em;}#sk-container-id-1 div.sk-label-container {text-align: center;}#sk-container-id-1 div.sk-container {/* jupyter's `normalize.less` sets `[hidden] { display: none; }` but bootstrap.min.css set `[hidden] { display: none !important; }` so we also need the `!important` here to be able to override the default hidden behavior on the sphinx rendered scikit-learn.org. See: https://github.com/scikit-learn/scikit-learn/issues/21755 */display: inline-block !important;position: relative;}#sk-container-id-1 div.sk-text-repr-fallback {display: none;}</style><div id=\"sk-container-id-1\" class=\"sk-top-container\"><div class=\"sk-text-repr-fallback\"><pre>Pipeline(steps=[(&#x27;tfidf&#x27;, TfidfVectorizer()), (&#x27;clf&#x27;, SGDClassifier())])</pre><b>In a Jupyter environment, please rerun this cell to show the HTML representation or trust the notebook. <br />On GitHub, the HTML representation is unable to render, please try loading this page with nbviewer.org.</b></div><div class=\"sk-container\" hidden><div class=\"sk-item sk-dashed-wrapped\"><div class=\"sk-label-container\"><div class=\"sk-label sk-toggleable\"><input class=\"sk-toggleable__control sk-hidden--visually\" id=\"sk-estimator-id-1\" type=\"checkbox\" ><label for=\"sk-estimator-id-1\" class=\"sk-toggleable__label sk-toggleable__label-arrow\">Pipeline</label><div class=\"sk-toggleable__content\"><pre>Pipeline(steps=[(&#x27;tfidf&#x27;, TfidfVectorizer()), (&#x27;clf&#x27;, SGDClassifier())])</pre></div></div></div><div class=\"sk-serial\"><div class=\"sk-item\"><div class=\"sk-estimator sk-toggleable\"><input class=\"sk-toggleable__control sk-hidden--visually\" id=\"sk-estimator-id-2\" type=\"checkbox\" ><label for=\"sk-estimator-id-2\" class=\"sk-toggleable__label sk-toggleable__label-arrow\">TfidfVectorizer</label><div class=\"sk-toggleable__content\"><pre>TfidfVectorizer()</pre></div></div></div><div class=\"sk-item\"><div class=\"sk-estimator sk-toggleable\"><input class=\"sk-toggleable__control sk-hidden--visually\" id=\"sk-estimator-id-3\" type=\"checkbox\" ><label for=\"sk-estimator-id-3\" class=\"sk-toggleable__label sk-toggleable__label-arrow\">SGDClassifier</label><div class=\"sk-toggleable__content\"><pre>SGDClassifier()</pre></div></div></div></div></div></div></div>"
            ],
            "text/plain": [
              "Pipeline(steps=[('tfidf', TfidfVectorizer()), ('clf', SGDClassifier())])"
            ]
          },
          "execution_count": 17,
          "metadata": {},
          "output_type": "execute_result"
        }
      ],
      "source": [
        "text_clf.fit(new_df[\"feature\"], new_df[\"label\"])"
      ]
    },
    {
      "cell_type": "code",
      "execution_count": null,
      "metadata": {
        "colab": {
          "base_uri": "https://localhost:8080/"
        },
        "id": "hUfMOVrG7XMA",
        "outputId": "279322a6-9e66-4770-9821-3177cbbfbca0"
      },
      "outputs": [
        {
          "data": {
            "text/plain": [
              "array([244])"
            ]
          },
          "execution_count": 62,
          "metadata": {},
          "output_type": "execute_result"
        }
      ],
      "source": [
        "text_clf.predict([clear_text(\"Мусор\")])"
      ]
    },
    {
      "cell_type": "code",
      "execution_count": null,
      "metadata": {
        "colab": {
          "base_uri": "https://localhost:8080/",
          "height": 36
        },
        "id": "8MJpEz_ZH6Je",
        "outputId": "531f7890-3e5b-41ce-f295-a533ae7059e8"
      },
      "outputs": [
        {
          "data": {
            "application/vnd.google.colaboratory.intrinsic+json": {
              "type": "string"
            },
            "text/plain": [
              "'Мешки полимерные'"
            ]
          },
          "execution_count": 63,
          "metadata": {},
          "output_type": "execute_result"
        }
      ],
      "source": [
        "index[244]"
      ]
    },
    {
      "cell_type": "code",
      "execution_count": null,
      "metadata": {
        "id": "3M9RsUYT7d3Q"
      },
      "outputs": [],
      "source": [
        "import pickle\n",
        "\n",
        "with open(\"index.pkl\", \"wb\") as f:\n",
        "    pickle.dump(list(index), f)"
      ]
    },
    {
      "cell_type": "code",
      "execution_count": null,
      "metadata": {
        "id": "qW87s1Yz8R4-"
      },
      "outputs": [],
      "source": [
        "!cp index.pkl /content/drive/MyDrive/index.pkl"
      ]
    },
    {
      "cell_type": "code",
      "execution_count": null,
      "metadata": {
        "colab": {
          "base_uri": "https://localhost:8080/"
        },
        "id": "nUMNe86m8x-Z",
        "outputId": "db0bea13-2c07-4c5f-bc6e-ae678a4a97b6"
      },
      "outputs": [
        {
          "name": "stdout",
          "output_type": "stream",
          "text": [
            "['Конверты почтовые', 'Наградная продукция', 'Конфеты', 'Зеркала интерьерные', 'Наборы продовольственные', 'Витрины', 'Скамьи', 'Банкетки', 'Тенты', 'Комплексные пищевые добавки', 'Материалы расходные для учебного оборудования', 'Оборудование для уроков труда', 'Сервер', 'Программное обеспечение прикладное для автоматизированных рабочих мест (кроме заказного)', 'Программное обеспечение специализированное для защиты информации', 'Кофе жареный', 'Печенье сладкое', 'Стойки сценические', 'Струны для музыкальных инструментов', 'Принадлежности для музыкальных инструментов прочие', 'Декорации', 'Концентраторы USB', 'Чай черный (ферментированный)', 'Приборы учета тепловой энергии', 'Приборы учета прочие', 'Одежда для взрослых форменная', 'Платья для взрослых', 'Жилеты для взрослых', 'Халаты для взрослых', 'Футболки трикотажные для взрослых', 'Аксессуары', 'Платья для девочек', 'Футболки трикотажные для детей', 'Толстовки с длинным рукавом (фуфайки) для детей', 'Одежда для детей и подростков форменная', 'Розетки штепсельные бытового назначения', 'Растворители (разбавители)', 'Эмали', 'Трубы и детали трубопроводов прочие', 'Средства дезинфицирующие хозяйственные', 'Товары для детского творчества', 'Шорты для детей', 'Панели интерактивные', 'Средства для ухода за телом', 'Щетки для уборки', 'Ерши', 'Метлы для уборки', 'Швабры, сгоны, скребки для уборки', 'Кремы для рук', 'Приборы столовые, кухонные из нержавеющей стали', 'Вода питьевая', 'Средства чистящие для бытовой техники', 'Средства чистящие универсального назначения', 'Средства чистящие для сантехники', 'Одежда специальная для защиты от воды', 'Одежда специальная для защиты от искр и брызг расплавленного металла', 'Одежда специальная повышенной видимости', 'Одежда специальная для защиты от пониженных температур', 'Одежда специальная для защиты от общих производственных загрязнений и механических воздействий', 'Кронштейны для крепления бытовой техники', 'Трубы трубопроводов из цветных металлов', 'Запасные части для спецтехники на базе транспортных средств', 'Шины пневматические для строительных, дорожных, подъемно-транспортных машин', 'Диски колесные', 'Колеса опорные', 'Учебно-методические пособия, закупаемые в рамках проекта «техносфера современной школы»', 'Шины пневматические для легкового автомобиля', 'Проекторы', 'Бумага для офисной техники', 'Монитор, подключаемый к компьютеру', 'Папки деловые', 'Папки картонные', 'Папки пластиковые', 'Файлы-вкладыши пластиковые', 'Инвентарь садовый металлический', 'Салфетки, насадки для уборки, полотна технические, ветошь', 'Инвентарь уборочный металлический', 'Контейнеры и другие емкости для мусора пластмассовые', 'Инвентарь уборочный пластмассовый', 'Тряпки для уборки', 'Белье для спецодежды нательное, для взрослых', 'Инвентарь садовый пластмассовый', 'Перчатки резиновые общего назначения (кроме медицинских)', 'Средства для мытья посуды', 'Средства для посудомоечных машин', 'Средства моющие для поверхностей в помещениях', 'Средства для обработки воды в бассейнах', 'Средства моющие для стекол и зеркал', 'Средства дезинсекционные', 'Средства моющие для туалетов и ванных комнат', 'Средства для дезодорирования и ароматизации воздуха в помещениях', 'Мыло туалетное жидкое', 'Средства для маникюра и педикюра', 'Средства для стирки белья, кроме порошка стирального', 'Порошок стиральный', 'Средства для макияжа', 'Мыло туалетное твердое', 'Принадлежности для косметических процедур', 'Средства для бритья, дезодоранты и антиперспиранты, средства для ванн', 'Посуда одноразовая бумажная', 'Посуда одноразовая пластмассовая', 'Посуда столовая, кухонная из фарфора', 'Посуда столовая, кухонная из стекла', 'Принадлежности гардеробные пластмассовые', 'Принадлежности для ухода за волосами', 'Лента клейкая упаковочная', 'Пленка упаковочная', 'Инвентарь кухонный деревянный', 'Инвентарь для санузлов пластмассовый', 'Элементы обеспечения навигации и комплектующие к ним', 'Изделия пластмассовые для транспортировки и упаковки', 'Принадлежности для шитья и рукоделия пластмассовые', 'Принадлежности для шитья и рукоделия металлические', 'Пластилин для детского творчества', 'Коммутатор', 'Мультимедийное программное обеспечение', 'Изделия корсетные для взрослых', 'Пижамы для взрослых', 'Сорочки ночные для взрослых', 'Трусы для взрослых', 'Ветровки для взрослых', 'Куртки для взрослых из текстильных материалов демисезонные', 'Куртки для взрослых из текстильных материалов зимние', 'Куртки для детей из текстильных материалов зимние', 'Ветровки для детей', 'Куртки для детей из текстильных материалов демисезонные', 'Смеси энтеральные', 'Шкафы для одежды металлические', 'Столы ученические', 'Шкафы хозяйственные металлические', 'Трусы для детей', 'Костюмы спортивные для взрослых', 'Костюмы спортивные для детей', 'Брюки спортивные для детей', 'Пижамы для детей', 'Шкафы архивные металлические', 'Столы детские для дошкольных учреждений', 'Стулья на деревянном каркасе', 'Брюки спортивные для взрослых', 'Стулья на металлическом каркасе', 'Стулья детские для дошкольных учреждений', 'Комплектующие для сетей и систем связи прочие', 'Соединители кабельные для кабелей с медными проводниками', 'Сейфы прочие', 'Стеллажи детские', 'Стеллажи деревянные', 'Секции гардеробные', 'Пуфы', 'Стойки ресепшен', 'Принтер', 'Многофункциональное устройство (МФУ)', 'Джемперы для взрослых', 'Джемперы для детей', 'Фурнитура для мебели деревянная', 'Фурнитура для мебели металлическая', 'Средства для мытья волос', 'Средства для окраски/химической завивки волос', 'Средства для ухода за волосами', 'Перчатки из полимерных материалов для защиты от внешних воздействий', 'Перчатки трикотажные для защиты от внешних воздействий', 'Брюки для взрослых', 'Джинсы для взрослых', 'Брюки для детей', 'Джинсы для детей', 'Посуда кухонная пластмассовая', 'Контейнеры пластмассовые', 'Ящики пластмассовые', 'Программное обеспечение системное, не вошедшее в другие группировки', 'Программное обеспечение (ПО), кроме ПО на электронном носителе', 'Кабели сетевые с медными проводниками', 'Сорочки верхние мужские', 'Уборы головные для взрослых', 'Респираторы', 'Коврики резиновые грязезащитные', 'Стулья ученические', 'Вешалки для одежды металлические', 'Тумбы офисные деревянные', 'Очки защитные', 'Игрушки детские головоломки', 'Игрушки детские конструкторы', 'Игрушки детские модели транспортного средства', 'Игрушки прочие', 'Игрушки спортивные', 'Пазлы', 'Прокат листовой горячекатаный', 'Прокат листовой холоднокатаный', 'Диваны', 'Секции диванные', 'Смартфоны', 'Компьютеры планшетные', 'Стенды информационные', 'Изделия кухонные из нержавеющей стали', 'Кресла бескаркасные', 'Кресла для зрительных залов', 'Кресла для отдыха', 'Кресла офисные', 'Трубы и детали трубопроводов из иных полимеров', 'Трубы прочие из полиэтилена, детали трубопроводов из полиэтилена', 'Полки навесные', 'Шкафы для документов деревянные', 'Шкафы для одежды деревянные', 'Перегородки офисные', 'Экраны разделительные', 'Стеллажи архивные металлические', 'Стеллажи складские металлические', 'Краски на основе акриловых или виниловых полимеров в водной среде', 'Прокат арматурный', 'Прокат круглого сечения', 'Прокат полосовой (полоса)', 'Прокат шестигранного сечения', 'Схемы тактильные (мнемосхемы)', 'Столы для переговоров', 'Столы журнальные', 'Столы компьютерные', 'Столы обеденные', 'Столы приставные', 'Трибуны', 'Брифинг-приставки', 'Столы письменные', 'Материалы изоляционные рулонные', 'Материалы теплоизоляционные полимерные', 'Принадлежности для автотранспорта прочие', 'Наборы для детского творчества', 'Наборы игрушек и настольных игр', 'Дозаторы (диспенсеры) для жидких бытовых средств', 'Трубы стальные водогазопроводные', 'Пиломатериалы непрофилированные из хвойных пород', 'Пиломатериалы профилированные из хвойных пород', 'Арматура электротехническая прочая', 'Соединители проводов электрические', 'Рукава (кроме пожарных)', 'Материалы уплотняющие, герметики, клеи прочие', 'Патч-корды', 'Шины пневматические для грузовых автомобилей', 'Коробки (короба) из гофрированного материала', 'Арматура соединительная, запорно-регулирующая, прочая', 'Готовые реактивы и растворы химических веществ', 'Стандартные образцы состава газовых смесей (поверочные газовые смеси)', 'Трубы стальные', 'Трубы стальные электросварные круглые', 'Пособия учебные наглядные, за исключением печатных прочие', 'Плитки керамические', 'Линолеум', 'Пакеты бумажные', 'Мешки полимерные', 'Пакеты полимерные', 'Обои', 'Диспенсеры для гигиенических средств', 'Трубы из черных металлов и их детали прочие', 'Грунт-эмали', 'Вентиляторы для систем вентиляции', 'Установки вентиляционные', 'Запасные части для систем кондиционирования', 'Кондиционеры бытовые', 'Кондиционеры промышленные', 'Устройства хранения данных дисковые автономные (внешние жесткие диски)', 'Usb-накопители твердотельные (флеш-драйвы)', 'Накопители твердотельные в формате флеш-карты', 'Покрытия и элементы сопряжения для территорий благоустройства', 'Малые архитектурные формы для территорий благоустройства', 'Приборы отопительные электрические бытовые', 'Водонагреватели газовые', 'Запчасти и комплектующие для отопительного оборудования прочие', 'Радиаторы', 'Водонагреватели электрические накопительные', 'Водонагреватели электрические проточные', 'Грунтовки антикоррозийные', 'Грунтовки (кроме антикоррозионных)', 'Писсуары', 'Смесители водоразборные', 'Унитазы', 'Уголки стальные', 'Лопаты для уборки снега', 'Клавиатура', 'Мышь компьютерная', 'Гарнитуры', 'Радиостанции цифровые', 'Подводки гибкие для воды', 'Люки ревизионные сантехнические', 'Прокладки плоские эластичные для оборудования сантехнического', 'Фурнитура для инсталляций сантехнических', 'Фурнитура для смесителей', 'Устройства усилительно-акустические', 'Экраны для проекторов', 'Спортивная экипировка для атлетики и пауэрлифтинга', 'Спортивная экипировка для баскетбола, стритбола', 'Специальная экипировка для бобслея, скелетона и санного спорта', 'Спортивная экипировка для водных видов спорта', 'Спортивная экипировка для волейбола', 'Спортивная экипировка для гимнастики', 'Спортивная экипировка для единоборств', 'Специальная экипировка для сноуборда', 'Спортивная экипировка для фехтования', 'Спортивная экипировка для фигурного катания', 'Спортивная экипировка для футбола', 'Спортивная экипировка для хоккея на льду', 'Ботинки лыжные', 'Специальная экипировка для лыжных видов спорта прочая', 'Гантели', 'Эспандеры', 'Коньки для фигурного катания', 'Наборы для гимнастических упражнений и игр', 'Мячи футбольные', 'Сетки-ворота', 'Коньки хоккейные', 'Велосипеды', 'Вещества специализированные для лыжного инвентаря', 'Лыжи', 'Палки для лыжных видов спорта', 'Оборудование для большого тенниса', 'Комплекты туристические бивуачные', 'Журналы печатные для обучения', 'Литература детская для обучения', 'Литература учебная для высшего и среднего профессионального образования', 'Литература учебно-методическая и справочная для обучения', 'Учебники печатные общеобразовательного назначения', 'Кухонные гарнитуры', 'Столы производственные кухонные', 'Шкафы кухонные', 'Ленты технические с липким слоем', 'Средства по уходу и содержанию животных', 'Средства лекарственные для животных', 'Счетчики производства и потребления жидкости', 'Растения комнатные', 'Композиции из срезанных цветов', 'Сеянцы, саженцы деревьев и кустарников', 'Луковицы и клубнелуковицы цветочных культур', 'Рассада цветов', 'Черенки цветочных культур укорененные', 'Биологически активные вещества для цветов и растений', 'Удобрения для цветов и других декоративных растений', 'Семена овощных культур', 'Семена цветочных культур', 'Оборудование производственное прочее', 'Автоматические мойки для транспортных средств, оборудование и комплектующие к ним', 'Масла гидравлические', 'Масла моторные', 'Масла трансмиссионные', 'Жидкости охлаждающие, включая антифриз', 'Жидкости технологические прочие', 'Смазки пластичные', 'Блоки питания (кроме блоков питания для компьютерной техники)', 'Электрогенераторы', 'Элементы питания (батарейки)', 'Батареи аккумуляторные свинцово-кислотные', 'Удлинители бытового и аналогичного назначения', 'Комплектующие части для осветительных приборов', 'Оборудование для создания световых эффектов', 'Табло световые', 'Технические средства освещения', 'Лампы светодиодные', 'Лампы люминесцентные', 'Лампы галогенные', 'Люстры', 'Светильники нестационарные', 'Светильники с лампами накаливания внутреннего освещения', 'Светильники светодиодные внутреннего освещения', 'Светильники наружного освещения', 'Прожекторы со светодиодными лампами', 'Оборудование для водоснабжения, сточных вод и канализации прочее', 'Фильтры водоочистительные', 'Насосы циркуляционные', 'Полотенца текстильные', 'Бумага туалетная', 'Изделия бумажные гигиенического назначения', 'Полотенца бумажные', 'Салфетки для сервировки стола бумажные', 'Подъемно-транспортные машины, оборудование прочие и запасные части к ним', 'Лифтовое оборудование', 'Электродвигатели', 'Оборудование буровое и запчасти к нему', 'Пигменты (колеры), наполнители', 'Матрацы', 'Одеяла', 'Подушки', 'Пряжа', 'Ткани швейные', 'Ковры', 'Комплекты белья постельного', 'Пледы', 'Покрывала', 'Полотенце текстильное бытовое', 'Гардины', 'Портьеры', 'Нитки швейные синтетические', 'Отводы стальные', 'Резьбы стальные', 'Расходные материалы для прочих транспортных средств', 'Фурнитура для плинтуса', 'Инвентарь для спасательных служб и служб гражданской обороны прочий', 'Огнетушители', 'Рукава пожарные напорные', 'Средства для спасения с высоты', 'Изделия и принадлежности для альпинизма, кроме веревок', 'Снаряжение специальное для спасательных служб и служб гражданской обороны', 'Системы ориентирования в задымленном пространстве', 'Части запасные и материалы расходные для оборудования спасательных служб и служб гражданской обороны', 'Рюкзаки туристические', 'Сумки повседневные', 'Колготки, легинсы (рейтузы), кюлоты', 'Носки, подследники', 'Обувь форменная для взрослых', 'Обувь с верхом из текстильных материалов', 'Обувь с защитным металлическим подноском', 'Обувь специальная кожаная для защиты от механических воздействий', 'Обувь специальная кожаная для защиты от нефти, нефтепродуктов, кислот, щелочей, нетоксичной и взрывоопасной пыли', 'Обувь специальная кожаная для защиты от повышенных температур', 'Сапоги резиновые формовые', 'Кроссовки', 'Туфли на подошве и с верхом из резины или пластмассы повседневная', 'Обувь детская с верхом из кожи', 'Обувь зимняя с верхом из кожи', 'Обувь летняя с верхом из кожи', 'Обувь осенне-весенняя с верхом из кожи', 'Обувь повседневная с верхом из кожи', 'Наборы слесарно-монтажного инструмента для комплектации и технического обслуживания автомобилей, тракторов и прочих машин', 'Костюмы для детей', 'Бриджи для взрослых', 'Толстовки для взрослых', 'Прочее оборудование систем охраны, обеспечения безопасности', 'Замки для охраны и обеспечения безопасности', 'Системы контроля и управления доступом', 'Камеры видеонаблюдения', 'Системы видеонаблюдения, оборудование для них', 'Знаки дорожные', 'Средства технические организации дорожного движения, кроме светофоров', 'Электрооборудование для обеспечения безопасности или управления движением на железных дорогах', 'Ограждения металлические барьерные', 'Фанера общего назначения', 'Метизы, крепежные изделия прочие', 'Болты с шестигранной головкой', 'Бланки', 'Блокноты', 'Планинги', 'Календари бумажные', 'Дипломы, грамоты, открытки (кроме почтовых)', 'Ежедневники', 'Журналы (книги) регистрации и учета специализированные', 'Книги учета универсальные', 'Тетрадь различного назначения', 'Тетрадь ученическая общая', 'Тетрадь ученическая школьная', 'Оборудование экологическое лабораторное прочее', 'Видеорегистраторы', 'Блоки питания для компьютерной техники', 'Вентиляторы охлаждения корпусные', 'Комплектующие информационно-технологического оборудования прочие', 'Корпуса системных блоков', 'Модули оперативной памяти', 'Накопители данных внутренние', 'Компоненты электронные прочие', 'Сертификаты на техническую поддержку информационно-технологического оборудования', 'Сертификаты на техническую поддержку программного обеспечения', 'Комплектующие и запасные части для устройств ввода и вывода информации', 'Расходные материалы и комплектующие для лазерных принтеров и МФУ', 'Расходные материалы и комплектующие для принтеров, печатающих не на бумаге', 'Расходные материалы и комплектующие для прочих принтеров и МФУ', 'Расходные материалы и комплектующие для струйных принтеров и МФУ', 'Пластик для 3D-принтеров', 'Аксессуары для информационно-технологического оборудования прочие', 'Аксессуары для мобильных устройств', 'Расходные материалы и комплектующие для кино- и видеотехники, фотографического оборудования', 'Расходные материалы и комплектующие для устройств копировально-множительных', 'Компьютеры персональные настольные (моноблоки)', 'Системный блок', 'Ноутбук', 'Фильтры сетевые', 'Источники бесперебойного питания', 'Устройства офисные для уничтожения документов', 'Телевизоры', 'Микрофоны музыкальные', 'Системы акустические', 'Устройства обработки звука прочие', 'Оборудование спортивное уличное', 'Задвижки для трубопроводов', 'Запасные части для автобусов', 'Запасные части для грузовых автомобилей', 'Запасные части для легковых автомобилей', 'Смеси сухие строительные', 'Шпатлевки', 'Прочее оборудование и инвентарь для ЖКХ', 'Газонокосилки', 'Снегоотбрасыватели малогабаритные', 'Навесное оборудование для спецтехники, кроме бульдозеров', 'Инструмент, оборудование инструментальное прочие', 'Части запасные к инструменту строительному', 'Перфораторы', 'Шлифмашины', 'Инструмент ручной прочий', 'Наборы строительных инструментов', 'Отвертки', 'Ключи гаечные комбинированные', 'Аппараты сварочные', 'Тележки грузовые', 'Биты для шуруповертов', 'Головки сменные торцевые', 'Диски для пил циркулярных', 'Рабочие органы сменные прочие', 'Резцы токарные', 'Фрезы', 'Цепи для электро- и бензопил', 'Буры для перфоратора', 'Сверла прочие', 'Материалы и изделия шлифовальные на гибкой основе', 'Припой', 'Электроды сварочные с покрытием', 'Инструмент мерительный ручной', 'Инструмент мерительный электронный, оптический и электронно-оптический', 'Рулетки измерительные', 'Емкости для инструментов', 'Шпатели', 'Кисти и щетки малярные', 'Аккумуляторы свинцовые для запуска поршневых двигателей', 'Материалы строительные прочие', 'Одежда, обувь и реквизит сценические', 'Инвентарь для отработки ударов', 'Лестницы переносные', 'Стремянки', 'Батареи аккумуляторные литиевые и щелочные', 'Альбомы для рисования', 'Кисти художественные', 'Краски для рисования', 'Материалы для живописи и графики', 'Материалы для лепки и скульптуры', 'Блоки бумажные для записей', 'Фотобумага', 'Этикетки самоклеящиеся', 'Бумага для плоттеров и копировальных работ', 'Бумага гофрированная (крепированная)', 'Бумага дизайнерская', 'Бумага художественная', 'Бумага цветная для творчества', 'Картон канцелярский', 'Ролики, чековая лента для устройств кроме факса', 'Печи микроволновые', 'Шкафы духовые электрические бытовые', 'Плиты газовые бытовые', 'Кофемашины автоматические бытовые', 'Электрочайники бытовые', 'Холодильники бытовые', 'Фильтры бытовые для воды и комплектующие к ним', 'Вытяжки кухонные бытовые', 'Машины посудомоечные бытовые', 'Сушилки для рук', 'Машины стиральные бытовые', 'Приборы бытовые осветительные с питанием от батарей, аккумуляторов', 'Расходные материалы, комплектующие, запасные части для кухонного оборудования', 'Расходные материалы, комплектующие, запасные части для оборудования бытового прочего', 'Расходные материалы, комплектующие, запасные части для оборудования для стирки и обработки белья', 'Расходные материалы, комплектующие, запасные части для оборудования для уборки', 'Пылесосы', 'Урны для мусора металлические', 'Весы электронные бытовые', 'Зонты вытяжные', 'Профили стальные листовые гнутые с трапециевидными гофрами из оцинкованной стали', 'Ластики', 'Наборы ручек канцелярских', 'Ручки канцелярские', 'Стержни для ручек канцелярских', 'Маркеры', 'Фломастеры', 'Карандаши цветные', 'Карандаши чернографитные', 'Пеналы школьные', 'Радиосистемы', 'Подушки штемпельные', 'Штемпели', 'Ножницы канцелярские', 'Линейки', 'Коврики канцелярские', 'Калькуляторы', 'Точилки для карандашей', 'Лотки, накопители для бумаг пластиковые', 'Клеи канцелярские', 'Лента клейкая канцелярская', 'Средства корректирующие канцелярские', 'Бейджи', 'Скобы для степлеров', 'Скрепки канцелярские', 'Степлеры (сшиватели)', 'Дыроколы канцелярские', 'Пленка для ламинирования', 'Пружины для переплета пластиковые', 'Системы демонстрационные', 'Карманы, держатели, подставки информационные', 'Доски магнитно-маркерные', 'Доски комбинированные магнитно-меловые', 'Доски информационные', 'Принадлежности для флажной продукции', 'Флаги, вымпелы, прочая флажная продукция', 'Ножи канцелярские', 'Рамки пластиковые', 'Насадки для углошлифовальных машин', 'Алюминий и металлоизделия из алюминия прочие', 'Блоки-контейнеры из металла', 'Замки навесные', 'Фурнитура для ворот и комплектующие к ним', 'Двери противопожарные металлические', 'Фурнитура для дверей металлическая', 'Замки дверные', 'Петли для дверей металлические', 'Блоки дверные деревянные и комбинированные', 'Блоки дверные из алюминиевых и ПВХ профилей', 'Блоки дверные стальные', 'Карнизы', 'Сетки москитные', 'Стеклопакеты', 'Блоки оконные пластиковые', 'Жалюзи оконные', 'Шторы рулонные из ткани', 'Канаты, шнуры, тросы', 'Плиты мощения гранитные', 'Плиты тротуарные бетонные', 'Лента клеевая на бумажной основе', 'Металлоизделия готовые прочие', 'Провода силовые', 'Кабели силовые гибкие общего назначения на напряжение до 1кв', 'Кабель силовой с пластмассовой изоляцией низкого напряжения', 'Кабель-каналы', 'Комплектующие для кабельных изделий', 'Короба кабельные', 'Трубы кабельные', 'Лотки кабельные металлические', 'Провода на номинальное напряжение до 450/750 в переменного тока или 1000 в постоянного тока', 'Комплектующие (запасные части) к товарам для благоустройства территорий', 'Фильтры воздушные для вентиляционного оборудования', 'Воздушные завесы', 'Комплектующие и запасные части вентиляционного оборудования', 'Воздуховоды и детали системы вентиляции', 'Шары надувные', 'Зажимы для бумаг', 'Части запасные, инструменты и принадлежности к насосам', 'Части запасные к компрессорам', 'Кастрюли', 'Часы', 'Запасные части и оборудование к проекторам', 'Нетканые материалы', 'Коврики, ковровые покрытия защитные из полимерных и комбинированных материалов', 'Изделия профилированные из полимерных материалов', 'Предметы интерьера декоративные', 'Предметы интерьера праздничные', 'ФАРМАЦЕВТИЧЕСКИЕ СУБСТАНЦИИ И ВСПОМОГАТЕЛЬНЫЕ ВЕЩЕСТВА, ИСПОЛЬЗУЕМЫЕ ДЛЯ АПТЕЧНОГО ИЗГОТОВЛЕНИЯ ЛЕКАРСТВЕННЫХ ПРЕПАРАТОВ', 'МЕДИЦИНСКИЕ СШИВАЮЩИЕ АППАРАТЫ', 'ИМПЛАНТАТ МОЛОЧНОЙ ЖЕЛЕЗЫ С СИЛИКОНОВЫМ ГЕЛЕМ', 'СРЕДСТВО ДЕЗИНФИЦИРУЮЩЕЕ ДЛЯ МЕДИЦИНСКИХ УЧРЕЖДЕНИЙ', 'ПРИНАДЛЕЖНОСТИ ДЛЯ ЭЛЕКТРОЭНЦЕФАЛОГРАФИИ (ЭЭГ)', 'ЭЛЕКТРОДЫ ДЛЯ ЭЛЕКТРОКАРДИОГРАММЫ (ЭКГ) И ПРИНАДЛЕЖНОСТИ К НИМ', 'ПРИНАДЛЕЖНОСТИ ДЛЯ ЭКГ', 'ПРИНАДЛЕЖНОСТИ ДЛЯ ИЗМЕРЕНИЯ АРТЕРИАЛЬНОГО ДАВЛЕНИЯ', 'ИЗДЕЛИЯ ПРОЧИЕ, ПРИМЕНЯЕМЫЕ В МЕДИЦИНСКИХ ЦЕЛЯХ', 'ВОЗДУХОВОДЫ', 'КОНТУРЫ ДЫХАТЕЛЬНЫЕ', 'ЗОНДЫ ЖЕЛУДОЧНЫЕ', 'ИГЛА СПИНАЛЬНАЯ, ОДНОРАЗОВОГО ИСПОЛЬЗОВАНИЯ', 'МАСКИ АНЕСТЕЗИОЛОГИЧЕСКИЕ', 'ТРУБКИ ЭНДОТРАХЕАЛЬНЫЕ', 'ТРУБКА ТРАХЕОСТОМИЧЕСКАЯ, ОДНОРАЗОВОГО ИСПОЛЬЗОВАНИЯ', 'ПЕТЛИ (ДЛЯ ЭНДОСКОПОВ ПРОИЗВОДСТВА \"PENTAX\" ЯПОНИЯ, \"OLYMPUS\" ЯПОНИЯ, \"FUJINON\" ЯПОНИЯ)', 'СТЕНТЫ БИЛИАРНЫЕ ПЛАСТИКОВЫЕ УНИВЕРСАЛЬНЫЕ', 'КАТЕТЕРЫ НЕФРОСТОМИЧЕСКИЕ ДЛЯ ДРЕНИРОВАНИЯ ПОЧКИ ЧЕРЕЗ НЕФРОСТОМУ', 'СТЕНТ МОЧЕТОЧНИКОВЫЙ ПОЛИМЕРНЫЙ', 'КАТЕТЕР МОЧЕТОЧНИКОВЫЙ', 'ПРИНАДЛЕЖНОСТИ ДЛЯ ИНФУЗИОННОЙ ТЕРАПИИ', 'ИГЛЫ-БАБОЧКИ, ИГЛЫ ИНЪЕКЦИОННЫЕ', 'ШПРИЦ ОБЩЕГО НАЗНАЧЕНИЯ', 'ПРИНАДЛЕЖНОСТИ ДЛЯ РЕНТГЕНЭНДОВАСКУЛЯРНЫХ МЕТОДОВ ДИАГНОСТИКИ И ЛЕЧЕНИЯ', 'ИНТРОДЬЮСЕРЫ', 'КАТЕТЕР БАЛЛОННЫЙ ДЛЯ АНГИОПЛАСТИКИ ПЕРИФЕРИЧЕСКИХ АРТЕРИЙ, ВЫДЕЛЯЮЩИЙ ЛЕКАРСТВЕННОЕ СРЕДСТВО', 'РАСХОДНЫЕ МАТЕРИАЛЫ ДЛЯ ОРТОПЕДИЧЕСКОЙ СТОМАТОЛОГИИ', 'РАСХОДНЫЕ МАТЕРИАЛЫ ДЛЯ ТЕРАПЕВТИЧЕСКОЙ СТОМАТОЛОГИИ', 'ШТИФТЫ И ОБТУРАТОРЫ ЭНДОДОНТИЧЕСКИЕ', 'БОРЫ СТОМАТОЛОГИЧЕСКИЕ', 'ФРЕЗЫ СТОМАТОЛОГИЧЕСКИЕ', 'ПЕЛЕНКИ ВПИТЫВАЮЩИЕ МЕДИЦИНСКИЕ', 'АПТЕЧКИ МЕДИЦИНСКИЕ', 'ДИСПЕНСЕРЫ И ДОЗАТОРЫ', 'САЛФЕТКИ АНТИСЕПТИЧЕСКИЕ', 'ХАЛАТЫ МЕДИЦИНСКИЕ МНОГОРАЗОВЫЕ', 'КОСТЮМЫ МЕДИЦИНСКИЕ МНОГОРАЗОВЫЕ', 'ПОДГУЗНИКИ ДЛЯ ВЗРОСЛЫХ МЕДИЦИНСКИЕ', 'КАТЕТЕРЫ БАЛЛОННЫЕ ПОСТДИЛАТАЦИОННЫЕ ДЛЯ ВНУТРИЧЕРЕПНЫХ СОСУДИСТЫХ ИМПЛАНТАТОВ', 'СТЕНТЫ ВНУТРИСОСУДИСТЫЕ ДЛЯ РЕНТГЕН-ЭНДОВАСКУЛЯРНОЙ НЕЙРОХИРУРГИИ', 'СПИРАЛИ ДЛЯ ЭМБОЛИЗАЦИИ', 'КАТЕТЕРЫ ПРОВОДНИКОВЫЕ ДЛЯ ПРОВЕДЕНИЯ НЕЙРОИНТЕРВЕНЦИЙ', 'ФИЛЬТРЫ ДЛЯ ОБОРУДОВАНИЯ', 'КОНТРОЛЬНЫЕ МАТЕРИАЛЫ ДЛЯ ПРОВЕДЕНИЯ ВНУТРИЛАБОРАТОРНОГО КОНТРОЛЯ КАЧЕСТВА', 'СОПУТСТВУЮЩИЕ ЛАБОРАТОРНЫЕ РАСХОДНЫЕ МАТЕРИАЛЫ И ПРИНАДЛЕЖНОСТИ', 'НАБОРЫ ДЛЯ ОПРЕДЕЛЕНИЯ ГРУПП КРОВИ', 'НАБОРЫ РЕАКТИВОВ/РЕАГЕНТОВ', 'РАСХОДНЫЕ МАТЕРИАЛЫ ДЛЯ ВЫСОКОЭФФЕКТИВНОЙ ЖИДКОСТНОЙ ХРОМАТОГРАФИИ (ВЭЖХ)', 'МНОЖЕСТВЕННЫЕ АЛЛЕРГЕН-СПЕЦИФИЧЕСКИЕ АНТИТЕЛА КЛАССА ИММУНОГЛОБУЛИН Е (IGE) ИВД, НАБОР, ИММУНОФЕРМЕНТНЫЙ АНАЛИЗ (ИФА)', 'ГИБРИДИЗАЦИЯ НУКЛЕИНОВЫХ КИСЛОТ ИВД, НАБОР', 'ПРОБИРКА ЦИЛИНДРИЧЕСКАЯ (ТИП П2)', 'НЕОРГАНИЧЕСКИЕ СОЕДИНЕНИЯ ДЛЯ ЛАБОРАТОРНОЙ ДИАГНОСТИКИ', 'РЕАГЕНТЫ ДЛЯ АНАЛИЗАТОРОВ СЕРИИ \"IMMULITE\", ПРОИЗВОДСТВА \"SIEMENS HEALTHCARE DIAGNOSTICS\"', 'РЕАГЕНТЫ ДЛЯ РАБОТЫ НА АНАЛИЗАТОРАХ \"ACL\", ПРОИЗВОДСТВА \"INSTRUMENTATION LABORATORY СО.\"', 'РЕАГЕНТЫ И РАСХОДНЫЕ МАТЕРИАЛЫ ДЛЯ АНАЛИЗАТОРОВ БИОХИМИЧЕСКИХ АВТОМАТИЗИРОВАННЫХ СЕРИИ \"AU (400, 480, 640, 680, 2700, 5400)\", ПРОИЗВОДСТВА \"BECKMAN COULTER\"', 'РЕАГЕНТЫ И РАСХОДНЫЕ МАТЕРИАЛЫ ДЛЯ АНАЛИЗАТОРОВ СЕРИИ \"UNICEL\" МОДЕЛЕЙ \"DXC\", \"DXC PRO\" И \"LX\", ПРОИЗВОДСТВА \"BECKMAN COULTER\"', 'РАСХОДНЫЕ МАТЕРИАЛЫ ДЛЯ АНАЛИЗАТОРОВ АВТОМАТИЧЕСКИХ СЕРИЙ, ПРОИЗВОДСТВА \"SHENZHEN MINDRAY BIO-MEDICAL ELECTRONICS CO., LTD.\"', 'РЕАГЕНТЫ ДЛЯ ИММУНОГЕМАТОЛОГИЧЕСКОГО ОБОРУДОВАНИЯ И АНАЛИЗАТОРОВ ID-ЦЕНТРИФУГА, ID-ИНКУБАТОР, IH-1000, HEMOS, SWING, SAXO', 'РЕАГЕНТЫ И РАСХОДНЫЕ МАТЕРИАЛЫ ДЛЯ АНАЛИЗАТОРОВ ИММУНОХЕМИЛЮМИНЕСЦЕНТНЫХ АВТОМАТИЧЕСКИХ &quot;COBAS E 411&quot;, ПРОИЗВОДСТВА &quot;ROCHE DIAGNOSTICS GMBH&quot;', 'РЕАГЕНТЫ И РАСХОДНЫЕ МАТЕРИАЛЫ ДЛЯ АНАЛИЗАТОРОВ ПРОИЗВОДСТВА \"RADIOMETER\"', 'РЕАГЕНТЫ ДЛЯ АНАЛИЗАТОРОВ ИММУНОХИМИЧЕСКИХ \"ABBOTT ARCHITECT\", ПРОИЗВОДСТВА \"ABBOTT LABORATORIES\"', 'РАСХОДНЫЕ МАТЕРИАЛЫ И РЕАГЕНТЫ ДЛЯ АНАЛИЗАТОРОВ \"ALINITY\", ПРОИЗВОДСТВА \"ABBOTT LABORATORIES\"', 'ЭКСПРЕСС-ТЕСТЫ ДЛЯ БЕСПРИБОРНОЙ ДИАГНОСТИКИ', 'КОНТЕЙНЕРЫ И ПРОБИРКИ ДЛЯ БИОЛОГИЧЕСКИХ ПРОБ', 'НАКОНЕЧНИКИ ЛАБОРАТОРНЫЕ', 'ПРОБИРКИ ВАКУУМНЫЕ И ДОПОЛНИТЕЛЬНЫЕ ПРИНАДЛЕЖНОСТИ К НИМ ДЛЯ ВЗЯТИЯ И ИССЛЕДОВАНИЯ КРОВИ', 'ИГЛА ДЛЯ ЗАБОРА КРОВИ, СТАНДАРТНАЯ', 'СРЕДЫ РАЗЛИЧНОГО НАЗНАЧЕНИЯ ДЛЯ МИКРОБИОЛОГИЧЕСКИХ ИССЛЕДОВАНИЙ', 'РЕАГЕНТЫ ДЛЯ ДИФФЕРЕНЦИАЛЬНОЙ ДИАГНОСТИКИ МИКРОБИОЛОГИЧЕСКИХ ИССЛЕДОВАНИЙ', 'ПИТАТЕЛЬНЫЕ СРЕДЫ, СЫВОРОТКИ', 'НАБОРЫ ДЛЯ ОПРЕДЕЛЕНИЯ ЧУВСТВИТЕЛЬНОСТИ МИКРООРГАНИЗМОВ К АНТИБИОТИКУ', 'НАБОР ДЛЯ ЭКСТРАКЦИИ/ИЗОЛЯЦИИ НУКЛЕИНОВЫХ КИСЛОТ ИВД', 'ИНДИКАТОРЫ ДЛЯ ОБРАБОТКИ, УТИЛИЗАЦИИ И СТЕРИЛИЗАЦИИ', 'УПАКОВКИ ДЛЯ СТЕРИЛИЗАЦИИ', 'РАСХОДНЫЕ МАТЕРИАЛЫ УПАКОВОЧНЫЕ ДЛЯ СТЕРИЛИЗАЦИИ', 'ИГЛОДЕРЖАТЕЛИ', 'КАТЕТЕРЫ', 'ЛЕЗВИЕ СКАЛЬПЕЛЯ, ОДНОРАЗОВОГО ИСПОЛЬЗОВАНИЯ', 'СКАЛЬПЕЛИ ОДНОРАЗОВОГО ИСПОЛЬЗОВАНИЯ', 'ПИНЦЕТЫ АНАТОМИЧЕСКИЕ', 'ПИНЦЕТЫ ОБЩЕХИРУРГИЧЕСКИЕ', 'НОЖНИЦЫ ОБЩЕХИРУРГИЧЕСКИЕ', 'КРЮЧКИ ДЛЯ ОБЩЕЙ ХИРУРГИИ ПРОЧИЕ', 'ЗОНДЫ МЕДИЦИНСКИЕ', 'ЩИПЦЫ ЭНДОСКОПИЧЕСКИЕ БИОПСИЙНЫЕ', 'ПОВЯЗКИ МЕДИЦИНСКИЕ', 'ПОВЯЗКИ МЕДИЦИНСКИЕ РАНЕВЫЕ', 'ВАТНО-МАРЛЕВЫЕ ИЗДЕЛИЯ', 'ЛЕЙКОПЛАСТЫРИ МЕДИЦИНСКИЕ', 'БИНТЫ ЭЛАСТИЧНЫЕ И ГИПСОВЫЕ', 'САЛФЕТКА МАРЛЕВАЯ ТКАНАЯ', 'ПРИНАДЛЕЖНОСТИ ДЛЯ ОБОРУДОВАНИЯ \"DRAEGER\"', 'РАСХОДНЫЕ МАТЕРИАЛЫ ДЛЯ ИММУНОГИСТОХИМИИ ДЛЯ РУЧНОГО ИЛИ АВТОМАТИЧЕСКОГО ИСПОЛЬЗОВАНИЯ', 'НАКОСТНЫЙ ОСТЕОСИНТЕЗ', 'ИНТРАМЕДУЛЛЯРНЫЙ ОСТЕОСИНТЕЗ', 'АППАРАТЫ ВНЕШНЕЙ ФИКСАЦИИ', 'ПЕРЧАТКИ ХИРУРГИЧЕСКИЕ ИЗ ЛАТЕКСА ГЕВЕИ, НЕОПУДРЕННЫЕ', 'ПЕРЧАТКИ СМОТРОВЫЕ/ПРОЦЕДУРНЫЕ ИЗ ЛАТЕКСА ГЕВЕИ, НЕОПУДРЕННЫЕ, НЕСТЕРИЛЬНЫЕ', 'ПЕРЧАТКИ СМОТРОВЫЕ/ПРОЦЕДУРНЫЕ НИТРИЛОВЫЕ, НЕОПУДРЕННЫЕ, НЕСТЕРИЛЬНЫЕ', 'КАТЕТЕРЫ ДЛЯ ПЕРИФЕРИЧЕСКИХ СОСУДОВ', 'НАБОРЫ ДЛЯ КАТЕТЕРИЗАЦИИ ЦЕНТРАЛЬНЫХ ВЕН ПО \"СЕЛЬДИНГЕРУ\"', 'КАТЕТЕРЫ ЦЕНТРАЛЬНЫЕ ВЕНОЗНЫЕ ДЛЯ ВЗРОСЛЫХ', 'ЭНДОПРОТЕЗЫ РЕВИЗИОНЫЕ ПРОЧИЕ', 'ЭНДОПРОТЕЗЫ СУСТАВОВ ДЛЯ ПЕРВИЧНОГО ЭНДОПРОТЕЗИРОВАНИЯ', 'ЭЛЕКТРОКАРДИОСТИМУЛЯТОРЫ МЕДИЦИНСКИЕ С ПРИНАДЛЕЖНОСТЯМИ', 'БАХИЛЫ МЕДИЦИНСКИЕ', 'КОМПЛЕКТЫ СТЕРИЛЬНЫЕ ОПЕРАЦИОННЫЕ', 'БЕЛЬЕ ПОСТЕЛЬНОЕ И ЧЕХЛЫ МЕДИЦИНСКИЕ', 'ЧЕХЛЫ СТЕРИЛЬНЫЕ НА АППАРАТУРУ', 'ШАПОЧКИ МЕДИЦИНСКИЕ', 'САЛФЕТКИ', 'ХАЛАТ ОПЕРАЦИОННЫЙ', 'ПРОСТЫНИ ОДНОРАЗОВОГО ИСПОЛЬЗОВАНИЯ', 'ФИКСАТОР СВЯЗОК', 'ВИНТ КОСТНЫЙ ОРТОПЕДИЧЕСКИЙ, НЕРАССАСЫВАЮЩИЙСЯ, НЕСТЕРИЛЬНЫЙ', 'ПАКЕТЫ ДЛЯ СБОРА, ХРАНЕНИЯ И ТРАНСПОРТИРОВКИ МЕДИЦИНСКИХ ОТХОДОВ', 'СОСТАВНЫЕ И ЗАМЕНЯЕМЫЕ ЧАСТИ, ПРИНАДЛЕЖНОСТИ И КОМПЛЕКТУЮЩИЕ ДЛЯ ОБОРУДОВАНИЯ МОНИТОРИРОВАНИЯ ФУНКЦИЙ', 'СОСТАВНЫЕ И ЗАМЕНЯЕМЫЕ ЧАСТИ, ПРИНАДЛЕЖНОСТИ И КОМПЛЕКТУЮЩИЕ ДЛЯ ОБОРУДОВАНИЯ ФУНКЦИОНАЛЬНОЙ ДИАГНОСТИКИ', 'СОСТАВНЫЕ И ЗАМЕНЯЕМЫЕ ЧАСТИ, ПРИНАДЛЕЖНОСТИ И КОМПЛЕКТУЮЩИЕ ДЛЯ ОБОРУДОВАНИЯ СТОМАТОЛОГИЧЕСКОГО ПРОЧИЕ', 'СОСТАВНЫЕ И ЗАМЕНЯЕМЫЕ ЧАСТИ, ПРИНАДЛЕЖНОСТИ И КОМПЛЕКТУЮЩИЕ ДЛЯ ФИЗИОТЕРАПЕВТИЧЕСКОГО ОБОРУДОВАНИЯ', 'СОСТАВНЫЕ И ЗАМЕНЯЕМЫЕ ЧАСТИ, ПРИНАДЛЕЖНОСТИ И КОМПЛЕКТУЮЩИЕ ДЛЯ АНАЛИЗАТОРОВ БИОХИМИЧЕСКИХ', 'СОСТАВНЫЕ И ЗАМЕНЯЕМЫЕ ЧАСТИ, ПРИНАДЛЕЖНОСТИ И КОМПЛЕКТУЮЩИЕ ДЛЯ АППАРАТОВ ИСКУССТВЕННОЙ ВЕНТИЛЯЦИИ ЛЕГКИХ', 'СОСТАВНЫЕ И ЗАМЕНЯЕМЫЕ ЧАСТИ, ПРИНАДЛЕЖНОСТИ И КОМПЛЕКТУЮЩИЕ ДЛЯ ОБОРУДОВАНИЯ ХИРУРГИЧЕСКОГО ПРОЧЕГО', 'СОСТАВНЫЕ И ЗАМЕНЯЕМЫЕ ЧАСТИ, ПРИНАДЛЕЖНОСТИ И КОМПЛЕКТУЮЩИЕ ДЛЯ АППАРАТОВ ЭЛЕКТРОХИРУРГИЧЕСКИХ', 'СОСТАВНЫЕ И ЗАМЕНЯЕМЫЕ ЧАСТИ, ПРИНАДЛЕЖНОСТИ И КОМПЛЕКТУЮЩИЕ ДЛЯ СТЕРИЛИЗАТОРОВ ВОЗДУШНЫХ', 'СОСТАВНЫЕ И ЗАМЕНЯЕМЫЕ ЧАСТИ, ПРИНАДЛЕЖНОСТИ И КОМПЛЕКТУЮЩИЕ ДЛЯ ОБОРУДОВАНИЯ ВСПОМОГАТЕЛЬНОГО', 'ТУМБОЧКА ПРИКРОВАТНАЯ', 'МЕБЕЛЬ ЛАБОРАТОРНАЯ МЕДИЦИНСКАЯ', 'СТОЛЫ МЕДИЦИНСКИЕ МЕТАЛЛИЧЕСКИЕ', 'ШКАФ ДЛЯ ХРАНЕНИЯ ЛЕКАРСТВЕННЫХ СРЕДСТВ', 'ШКАФЫ МЕДИЦИНСКИЕ ДЛЯ ДОКУМЕНТОВ', 'СТУЛ ОБЩЕГО НАЗНАЧЕНИЯ', 'КРОВАТЬ БОЛЬНИЧНАЯ', 'КРЕСЛО ДЛЯ ОСМОТРА/ТЕРАПЕВТИЧЕСКИХ ПРОЦЕДУР ОБЩЕГО НАЗНАЧЕНИЯ, С ЭЛЕКТРОПИТАНИЕМ', 'МАНЕКЕНЫ-ТРЕНАЖЕРЫ ИМИТАЦИИ ЧЕЛОВЕКА', 'ДОЗАТОРЫ ЛАБОРАТОРНЫЕ', 'ИНСТРУМЕНТЫ ЭЛЕКТРОХИРУРГИЧЕСКИЕ', 'НАБОРЫ ИНСТРУМЕНТОВ ХИРУРГИЧЕСКИХ', 'РАСШИРИТЕЛИ ОБЩЕХИРУРГИЧЕСКИЕ', 'КОНТЕЙНЕРЫ ДЛЯ СБОРА МЕДИЦИНСКИХ ОТХОДОВ', 'ОБЛУЧАТЕЛИ-РЕЦИРКУЛЯТОРЫ БАКТЕРИЦИДНЫЕ', 'ЛАМПА УЛЬТРАФИОЛЕТОВАЯ БАКТЕРИЦИДНАЯ', 'ПРЕПАРАТЫ ДЛЯ ЛЕЧЕНИЯ ЗАБОЛЕВАНИЙ ГЛАЗ,S01', 'НАЗАЛЬНЫЕ ПРЕПАРАТЫ,R01', 'ПРЕПАРАТЫ ДЛЯ ЛЕЧЕНИЯ БРОНХИАЛЬНОЙ АСТМЫ,R03', 'ПРЕПАРАТЫ, ПРИМЕНЯЕМЫЕ ПРИ КАШЛЕ И ПРОСТУДНЫХ ЗАБОЛЕВАНИЯХ,R05', 'ПРОТИВОЭПИЛЕПТИЧЕСКИЕ ПРЕПАРАТЫ,N03', 'ПСИХОАНАЛЕПТИКИ,N06', 'ДРУГИЕ ПРЕПАРАТЫ ДЛЯ ЛЕЧЕНИЯ ЗАБОЛЕВАНИЙ НЕРВНОЙ СИСТЕМЫ,N07', 'АНЕСТЕТИКИ,N01', 'АНАЛЬГЕТИКИ,N02', 'ПСИХОТРОПНЫЕ ПРЕПАРАТЫ,N05', 'ПРОТИВОВОСПАЛИТЕЛЬНЫЕ И ПРОТИВОРЕВМАТИЧЕСКИЕ ПРЕПАРАТЫ,M01', 'ПРОТИВООПУХОЛЕВЫЕ ПРЕПАРАТЫ,L01', 'ИММУНОДЕПРЕССАНТЫ,L04', 'ПРОТИВОМИКРОБНЫЕ ПРЕПАРАТЫ ДЛЯ СИСТЕМНОГО ИСПОЛЬЗОВАНИЯ,J01', 'ПРОТИВОВИРУСНЫЕ ПРЕПАРАТЫ ДЛЯ СИСТЕМНОГО ИСПОЛЬЗОВАНИЯ,J05', 'АНТИСЕПТИКИ И ДЕЗИНФИЦИРУЮЩИЕ ПРЕПАРАТЫ,D08', 'ПРЕПАРАТЫ ДЛЯ ЛЕЧЕНИЯ ЗАБОЛЕВАНИЙ СЕРДЦА, C01', 'ПРЕПАРАТЫ, ВЛИЯЮЩИЕ НА СИСТЕМУ РЕНИН-АНГИОТЕНЗИН, C09', 'АНТИКОАГУЛЯНТЫ,B01', 'ПЛАЗМОЗАМЕЩАЮЩИЕ И ПЕРФУЗИОННЫЕ РАСТВОРЫ,B05', 'ПРЕПАРАТЫ ДЛЯ ЛЕЧЕНИЯ САХАРНОГО ДИАБЕТА,A10', 'ПРЕПАРАТЫ ДЛЯ ЛЕЧЕНИЯ ЗАБОЛЕВАНИЙ, СВЯЗАННЫХ С НАРУШЕНИЕМ КИСЛОТНОСТИ,A02', 'ПРЕПАРАТЫ ДЛЯ ЛЕЧЕНИЯ ФУНКЦИОНАЛЬНЫХ РАССТРОЙСТВ ЖКТ,A03', 'ПРОТИВОДИАРЕЙНЫЕ, КИШЕЧНЫЕ ПРОТИВОВОСПАЛИТЕЛЬНЫЕ И ПРОТИВОМИКРОБНЫЕ ПРЕПАРАТЫ,A07', 'СОПУТСТВУЮЩИЕ МАТЕРИАЛЫ ДЛЯ ПРОВЕДЕНИЯ ЛАБОРАТОРНО-ДИАГНОСТИЧЕСКИХ МАНИПУЛЯЦИЙ', 'Комплексы многофункциональные интерактивные учебные', 'Потолки подвесные (комплектующие)', 'КАТЕТЕР АНГИОГРАФИЧЕСКИЙ, ОДНОРАЗОВОГО ИСПОЛЬЗОВАНИЯ', 'НАБОРЫ ДЛЯ ПЕРИКАРДИОЦЕНТЕЗА', 'СТЕНТ-ГРАФТ АОРТАЛЬНЫЙ ЭНДОВАСКУЛЯРНЫЙ УНИВЕРСАЛЬНЫЙ', 'ПРОВОДНИК ДЛЯ ДОСТУПА К ПЕРИФЕРИЧЕСКИМ СОСУДАМ, РУЧНОЙ', 'Бойлеры косвенного нагрева', 'НИТИ ХИРУРГИЧЕСКИЕ', 'ЗАЖИМЫ МЕДИЦИНСКИЕ ', 'ТЕРМОБУМАГА, ДИАГРАММНАЯ БУМАГА И ТЕРМОЛЕНТЫ ДЛЯ ЭКГ И ФЕТАЛЬНЫХ МОНИТОРОВ', 'Ограждения передвижные и комплектующие к ним', 'КАТЕТЕР УРЕТРАЛЬНЫЙ ПОСТОЯННЫЙ ДЛЯ ДРЕНАЖА', 'Материалы расходные для творческих работ', 'Ленты адгезивные на полимерной основе', 'Щиты электротехнические', 'Выключатели автоматические (автоматы)', 'Изоляторы, конденсаторы, резисторы', 'Контакторы и пускатели', 'СЕТКА ХИРУРГИЧЕСКАЯ ПРИ АБДОМИНАЛЬНОЙ ГРЫЖЕ', 'ФУТЛЯР-УКЛАДКИ/УКЛАДКИ И МЕДИЦИНСКИЕ НАБОРЫ', 'КАТЕТЕРЫ ДЛЯ ГЕМОДИАЛИЗА']\n"
          ]
        }
      ],
      "source": [
        "with open(\"index.pkl\", \"rb\") as f:\n",
        "    print(pickle.load(f))"
      ]
    }
  ],
  "metadata": {
    "colab": {
      "provenance": []
    },
    "kernelspec": {
      "display_name": "Python 3",
      "name": "python3"
    },
    "language_info": {
      "name": "python"
    }
  },
  "nbformat": 4,
  "nbformat_minor": 0
}
